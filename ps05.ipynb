{
 "metadata": {
  "name": "",
  "signature": "sha256:e5c5eb775cfcd4bff3786babc9ece954e5687f82ddd5424ed2b08802151cda5d"
 },
 "nbformat": 3,
 "nbformat_minor": 0,
 "worksheets": [
  {
   "cells": [
    {
     "cell_type": "heading",
     "level": 1,
     "metadata": {},
     "source": []
    },
    {
     "cell_type": "code",
     "collapsed": false,
     "input": [
      "from __future__ import print_function, division\n",
      "\n",
      "import thinkdsp\n",
      "import thinkplot\n",
      "import numpy\n",
      "import math\n",
      "import pandas\n",
      "from scipy import signal, fftpack\n",
      "import dct\n",
      "import dft\n",
      "import autocorr\n",
      "\n",
      "PI2 = 2 * math.pi\n",
      "\n",
      "%matplotlib inline"
     ],
     "language": "python",
     "metadata": {},
     "outputs": [],
     "prompt_number": 3
    },
    {
     "cell_type": "heading",
     "level": 4,
     "metadata": {},
     "source": [
      "1) The usual version of IDFT uses frequencies 0 through N-1.  What happens if you go from N to 2N-1?"
     ]
    },
    {
     "cell_type": "code",
     "collapsed": false,
     "input": [
      "def lmsfilt(wave,p=3):\n",
      "    hhat = numpy.zeros(p)\n",
      "    xs = wave.ys()\n",
      "    for i in range(len(xs)):\n",
      "        \n",
      "    "
     ],
     "language": "python",
     "metadata": {},
     "outputs": [],
     "prompt_number": 20
    },
    {
     "cell_type": "code",
     "collapsed": false,
     "input": [
      "wave = thinkdsp.SawtoothSignal(freq=880, amp=0.5, offset=0).make_wave(duration=.01)\n",
      "wave.ys"
     ],
     "language": "python",
     "metadata": {},
     "outputs": [
      {
       "metadata": {},
       "output_type": "pyout",
       "prompt_number": 23,
       "text": [
        "array([-0.5       , -0.41988189, -0.33976378, -0.25964567, -0.17952756,\n",
        "       -0.09940945, -0.01929134,  0.06082677,  0.14094488,  0.22106299,\n",
        "        0.3011811 ,  0.38129921,  0.46141732, -0.46221703, -0.38209892,\n",
        "       -0.30198081, -0.2218627 , -0.14174459, -0.06162648,  0.01849163,\n",
        "        0.09860974,  0.17872785,  0.25884596,  0.33896407,  0.41908219,\n",
        "        0.4992003 , -0.42443406, -0.34431594, -0.26419783, -0.18407972,\n",
        "       -0.10396161, -0.0238435 ,  0.05627461,  0.13639272,  0.21651083,\n",
        "        0.29662894,  0.37674705,  0.45686516, -0.46676919, -0.38665108,\n",
        "       -0.30653297, -0.22641486, -0.14629675, -0.06617864,  0.01393947,\n",
        "        0.09405758,  0.17417569,  0.2542938 ,  0.33441191,  0.41453002,\n",
        "        0.49464813, -0.42898622, -0.34886811, -0.26875   , -0.18863189,\n",
        "       -0.10851378, -0.02839567,  0.05172244,  0.13184055,  0.21195866,\n",
        "        0.29207677,  0.37219488,  0.45231299, -0.47132136, -0.39120325,\n",
        "       -0.31108514, -0.23096703, -0.15084892, -0.07073081,  0.0093873 ,\n",
        "        0.08950541,  0.16962352,  0.24974163,  0.32985974,  0.40997785,\n",
        "        0.49009596, -0.43353839, -0.35342028, -0.27330217, -0.19318406,\n",
        "       -0.11306594, -0.03294783,  0.04717028,  0.12728839,  0.2074065 ,\n",
        "        0.28752461,  0.36764272,  0.44776083, -0.47587352, -0.39575541,\n",
        "       -0.3156373 , -0.23551919, -0.15540108, -0.07528297,  0.00483514,\n",
        "        0.08495325,  0.16507136,  0.24518947,  0.32530758,  0.40542569,\n",
        "        0.4855438 , -0.43809055, -0.35797244, -0.27785433, -0.19773622,\n",
        "       -0.11761811, -0.0375    ,  0.04261811,  0.12273622,  0.20285433,\n",
        "        0.28297244])"
       ]
      }
     ],
     "prompt_number": 23
    },
    {
     "cell_type": "code",
     "collapsed": false,
     "input": [
      "ts2 = numpy.arange(N) / N\n",
      "freqs2 = numpy.arange(N,N*2)\n",
      "print(freqs2)\n",
      "args2 = numpy.outer(ts2, freqs2)\n",
      "M2 = numpy.exp(1j * PI2 * args2)"
     ],
     "language": "python",
     "metadata": {},
     "outputs": [
      {
       "output_type": "stream",
       "stream": "stdout",
       "text": [
        "[ 8  9 10 11 12 13 14 15]\n"
       ]
      }
     ],
     "prompt_number": 8
    },
    {
     "cell_type": "code",
     "collapsed": false,
     "input": [
      "numpy.allclose(M,M2)"
     ],
     "language": "python",
     "metadata": {},
     "outputs": [
      {
       "metadata": {},
       "output_type": "pyout",
       "prompt_number": 9,
       "text": [
        "True"
       ]
      }
     ],
     "prompt_number": 9
    },
    {
     "cell_type": "markdown",
     "metadata": {},
     "source": [
      "Looks like within a certain tolerance, the matrices of each are the same. This might be since the frequency lists are still the same range and length, so it may treat the transformation similarly."
     ]
    },
    {
     "cell_type": "heading",
     "level": 4,
     "metadata": {},
     "source": [
      "2) In thinkdsp.py, the Spectrum methods low_pass and high_pass are ideal filters, in some sense: in the passband they are perfectly flat, and in the stopband they attenuate to 0 (or whatever value you want).\n",
      "\n",
      "Invoking the principle that for every filter there is a corresponding window, see if you can figure out what window corresponds to these ideal filters."
     ]
    },
    {
     "cell_type": "code",
     "collapsed": false,
     "input": [
      "sig = thinkdsp.SawtoothSignal(freq=880, amp=0.5, offset=0)\n",
      "wave = sig.make_wave(duration=1.9999) #to get the right length, i'm lazy I know\n",
      "wave2 = wave\n",
      "wave2.ys = numpy.fliplr(wave2.ys)\n",
      "spec = wave.make_spectrum()\n",
      "spec2 = wave2.make_spectrum()\n",
      "len(spec)\n",
      "#spec.plot()"
     ],
     "language": "python",
     "metadata": {},
     "outputs": [
      {
       "ename": "ValueError",
       "evalue": "Input must be >= 2-d.",
       "output_type": "pyerr",
       "traceback": [
        "\u001b[1;31m---------------------------------------------------------------------------\u001b[0m\n\u001b[1;31mValueError\u001b[0m                                Traceback (most recent call last)",
        "\u001b[1;32m<ipython-input-10-4dcfedd7b5c9>\u001b[0m in \u001b[0;36m<module>\u001b[1;34m()\u001b[0m\n\u001b[0;32m      2\u001b[0m \u001b[0mwave\u001b[0m \u001b[1;33m=\u001b[0m \u001b[0msig\u001b[0m\u001b[1;33m.\u001b[0m\u001b[0mmake_wave\u001b[0m\u001b[1;33m(\u001b[0m\u001b[0mduration\u001b[0m\u001b[1;33m=\u001b[0m\u001b[1;36m1.9999\u001b[0m\u001b[1;33m)\u001b[0m \u001b[1;31m#to get the right length, i'm lazy I know\u001b[0m\u001b[1;33m\u001b[0m\u001b[0m\n\u001b[0;32m      3\u001b[0m \u001b[0mwave2\u001b[0m \u001b[1;33m=\u001b[0m \u001b[0mwave\u001b[0m\u001b[1;33m\u001b[0m\u001b[0m\n\u001b[1;32m----> 4\u001b[1;33m \u001b[0mwave2\u001b[0m\u001b[1;33m.\u001b[0m\u001b[0mys\u001b[0m \u001b[1;33m=\u001b[0m \u001b[0mnumpy\u001b[0m\u001b[1;33m.\u001b[0m\u001b[0mfliplr\u001b[0m\u001b[1;33m(\u001b[0m\u001b[0mwave2\u001b[0m\u001b[1;33m.\u001b[0m\u001b[0mys\u001b[0m\u001b[1;33m)\u001b[0m\u001b[1;33m\u001b[0m\u001b[0m\n\u001b[0m\u001b[0;32m      5\u001b[0m \u001b[0mspec\u001b[0m \u001b[1;33m=\u001b[0m \u001b[0mwave\u001b[0m\u001b[1;33m.\u001b[0m\u001b[0mmake_spectrum\u001b[0m\u001b[1;33m(\u001b[0m\u001b[1;33m)\u001b[0m\u001b[1;33m\u001b[0m\u001b[0m\n\u001b[0;32m      6\u001b[0m \u001b[0mspec2\u001b[0m \u001b[1;33m=\u001b[0m \u001b[0mwave2\u001b[0m\u001b[1;33m.\u001b[0m\u001b[0mmake_spectrum\u001b[0m\u001b[1;33m(\u001b[0m\u001b[1;33m)\u001b[0m\u001b[1;33m\u001b[0m\u001b[0m\n",
        "\u001b[1;32m/home/sgubba/anaconda/lib/python2.7/site-packages/numpy/lib/twodim_base.pyc\u001b[0m in \u001b[0;36mfliplr\u001b[1;34m(m)\u001b[0m\n\u001b[0;32m     77\u001b[0m     \u001b[0mm\u001b[0m \u001b[1;33m=\u001b[0m \u001b[0masanyarray\u001b[0m\u001b[1;33m(\u001b[0m\u001b[0mm\u001b[0m\u001b[1;33m)\u001b[0m\u001b[1;33m\u001b[0m\u001b[0m\n\u001b[0;32m     78\u001b[0m     \u001b[1;32mif\u001b[0m \u001b[0mm\u001b[0m\u001b[1;33m.\u001b[0m\u001b[0mndim\u001b[0m \u001b[1;33m<\u001b[0m \u001b[1;36m2\u001b[0m\u001b[1;33m:\u001b[0m\u001b[1;33m\u001b[0m\u001b[0m\n\u001b[1;32m---> 79\u001b[1;33m         \u001b[1;32mraise\u001b[0m \u001b[0mValueError\u001b[0m\u001b[1;33m(\u001b[0m\u001b[1;34m\"Input must be >= 2-d.\"\u001b[0m\u001b[1;33m)\u001b[0m\u001b[1;33m\u001b[0m\u001b[0m\n\u001b[0m\u001b[0;32m     80\u001b[0m     \u001b[1;32mreturn\u001b[0m \u001b[0mm\u001b[0m\u001b[1;33m[\u001b[0m\u001b[1;33m:\u001b[0m\u001b[1;33m,\u001b[0m \u001b[1;33m:\u001b[0m\u001b[1;33m:\u001b[0m\u001b[1;33m-\u001b[0m\u001b[1;36m1\u001b[0m\u001b[1;33m]\u001b[0m\u001b[1;33m\u001b[0m\u001b[0m\n\u001b[0;32m     81\u001b[0m \u001b[1;33m\u001b[0m\u001b[0m\n",
        "\u001b[1;31mValueError\u001b[0m: Input must be >= 2-d."
       ]
      }
     ],
     "prompt_number": 10
    },
    {
     "cell_type": "code",
     "collapsed": false,
     "input": [
      "lp = thinkdsp.Spectrum(numpy.concatenate((numpy.ones(5000),numpy.zeros(11025-5000))),11025)\n",
      "lp2 = thinkdsp.Spectrum(wave2.ys,11025)"
     ],
     "language": "python",
     "metadata": {},
     "outputs": [],
     "prompt_number": 11
    },
    {
     "cell_type": "code",
     "collapsed": false,
     "input": [
      "(spec*lp2).plot()"
     ],
     "language": "python",
     "metadata": {},
     "outputs": [
      {
       "ename": "NameError",
       "evalue": "name 'spec' is not defined",
       "output_type": "pyerr",
       "traceback": [
        "\u001b[1;31m---------------------------------------------------------------------------\u001b[0m\n\u001b[1;31mNameError\u001b[0m                                 Traceback (most recent call last)",
        "\u001b[1;32m<ipython-input-12-f303c38c48f8>\u001b[0m in \u001b[0;36m<module>\u001b[1;34m()\u001b[0m\n\u001b[1;32m----> 1\u001b[1;33m \u001b[1;33m(\u001b[0m\u001b[0mspec\u001b[0m\u001b[1;33m*\u001b[0m\u001b[0mlp2\u001b[0m\u001b[1;33m)\u001b[0m\u001b[1;33m.\u001b[0m\u001b[0mplot\u001b[0m\u001b[1;33m(\u001b[0m\u001b[1;33m)\u001b[0m\u001b[1;33m\u001b[0m\u001b[0m\n\u001b[0m",
        "\u001b[1;31mNameError\u001b[0m: name 'spec' is not defined"
       ]
      }
     ],
     "prompt_number": 12
    },
    {
     "cell_type": "code",
     "collapsed": false,
     "input": [
      "lp.make_wave().segment(1.99,.01).plot()"
     ],
     "language": "python",
     "metadata": {},
     "outputs": [
      {
       "metadata": {},
       "output_type": "display_data",
       "png": "[encoded data removed]",
       "text": [
        "<matplotlib.figure.Figure at 0x7f66c1402310>"
       ]
      }
     ],
     "prompt_number": 13
    },
    {
     "cell_type": "markdown",
     "metadata": {},
     "source": [
      "Sorta makes sense considering that it needs to be able to remove frequencies higher than 5000, it would block lots of the wave out. It seems to spike positive towards the end of the cycle..."
     ]
    },
    {
     "cell_type": "code",
     "collapsed": false,
     "input": [
      "hp = thinkdsp.Spectrum(numpy.concatenate((numpy.zeros(5000),numpy.ones(11025-5000))),11025)\n",
      "(spec+hp).plot()"
     ],
     "language": "python",
     "metadata": {},
     "outputs": [
      {
       "ename": "NameError",
       "evalue": "name 'spec' is not defined",
       "output_type": "pyerr",
       "traceback": [
        "\u001b[1;31m---------------------------------------------------------------------------\u001b[0m\n\u001b[1;31mNameError\u001b[0m                                 Traceback (most recent call last)",
        "\u001b[1;32m<ipython-input-14-e6afb6138710>\u001b[0m in \u001b[0;36m<module>\u001b[1;34m()\u001b[0m\n\u001b[0;32m      1\u001b[0m \u001b[0mhp\u001b[0m \u001b[1;33m=\u001b[0m \u001b[0mthinkdsp\u001b[0m\u001b[1;33m.\u001b[0m\u001b[0mSpectrum\u001b[0m\u001b[1;33m(\u001b[0m\u001b[0mnumpy\u001b[0m\u001b[1;33m.\u001b[0m\u001b[0mconcatenate\u001b[0m\u001b[1;33m(\u001b[0m\u001b[1;33m(\u001b[0m\u001b[0mnumpy\u001b[0m\u001b[1;33m.\u001b[0m\u001b[0mzeros\u001b[0m\u001b[1;33m(\u001b[0m\u001b[1;36m5000\u001b[0m\u001b[1;33m)\u001b[0m\u001b[1;33m,\u001b[0m\u001b[0mnumpy\u001b[0m\u001b[1;33m.\u001b[0m\u001b[0mones\u001b[0m\u001b[1;33m(\u001b[0m\u001b[1;36m11025\u001b[0m\u001b[1;33m-\u001b[0m\u001b[1;36m5000\u001b[0m\u001b[1;33m)\u001b[0m\u001b[1;33m)\u001b[0m\u001b[1;33m)\u001b[0m\u001b[1;33m,\u001b[0m\u001b[1;36m11025\u001b[0m\u001b[1;33m)\u001b[0m\u001b[1;33m\u001b[0m\u001b[0m\n\u001b[1;32m----> 2\u001b[1;33m \u001b[1;33m(\u001b[0m\u001b[0mspec\u001b[0m\u001b[1;33m+\u001b[0m\u001b[0mhp\u001b[0m\u001b[1;33m)\u001b[0m\u001b[1;33m.\u001b[0m\u001b[0mplot\u001b[0m\u001b[1;33m(\u001b[0m\u001b[1;33m)\u001b[0m\u001b[1;33m\u001b[0m\u001b[0m\n\u001b[0m",
        "\u001b[1;31mNameError\u001b[0m: name 'spec' is not defined"
       ]
      }
     ],
     "prompt_number": 14
    },
    {
     "cell_type": "code",
     "collapsed": false,
     "input": [
      "hp.make_wave().plot()"
     ],
     "language": "python",
     "metadata": {},
     "outputs": [
      {
       "metadata": {},
       "output_type": "display_data",
       "png": "[encoded data removed]",
       "text": [
        "<matplotlib.figure.Figure at 0x7f66a9e74910>"
       ]
      }
     ],
     "prompt_number": 15
    },
    {
     "cell_type": "markdown",
     "metadata": {},
     "source": [
      "Multiplying the spectra in the frequency domain = convolving the waves in the time domain. Since we succeeded at finding a window that would work, it's safe to create a wave based off of this. (Looks like a lowpass)"
     ]
    },
    {
     "cell_type": "markdown",
     "metadata": {},
     "source": [
      "It seems that the high-pass seems to spike negative towards the end of its window cycle... perhaps this indicates something related to frequencies and removal..."
     ]
    },
    {
     "cell_type": "heading",
     "level": 4,
     "metadata": {},
     "source": [
      "3) So far we have focused attention on the effect filters have on the magnitude of each frequency component, but they also affect the phase offset.  For the boxcar and Gaussian windows, plot the phase shift as a function of frequency."
     ]
    },
    {
     "cell_type": "code",
     "collapsed": false,
     "input": [
      "boxcar = numpy.ones(100)\n",
      "boxcar /= sum(boxcar)"
     ],
     "language": "python",
     "metadata": {},
     "outputs": [],
     "prompt_number": 16
    },
    {
     "cell_type": "code",
     "collapsed": false,
     "input": [
      "gaussian = signal.gaussian(M=100, std=2)\n",
      "gaussian /= sum(gaussian)\n"
     ],
     "language": "python",
     "metadata": {},
     "outputs": [],
     "prompt_number": 17
    },
    {
     "cell_type": "code",
     "collapsed": false,
     "input": [
      "bcw = thinkdsp.Wave(boxcar,11025)\n",
      "gsw = thinkdsp.Wave(gaussian,11025)\n",
      "bcs = bcw.make_spectrum()\n",
      "gss = gsw.make_spectrum()\n",
      "ps1 = numpy.angle(bcs.hs)\n",
      "ps2 = numpy.angle(gss.hs)\n",
      "thinkplot.plot(ps1, label= 'Boxcar')\n",
      "thinkplot.plot(ps2, label= 'Gaussian')\n",
      "thinkplot.config(xlabel = 'freq',\n",
      "                 ylabel = 'phase')"
     ],
     "language": "python",
     "metadata": {},
     "outputs": [
      {
       "metadata": {},
       "output_type": "display_data",
       "png": "[encoded data removed]",
       "text": [
        "<matplotlib.figure.Figure at 0x7f66a9f69a90>"
       ]
      }
     ],
     "prompt_number": 18
    },
    {
     "cell_type": "markdown",
     "metadata": {},
     "source": [
      "The gaussian window oscillates but overall increases. But the boxcar seems to dip according to some pattern, of 10, 15 then 35, 40... interesting..."
     ]
    },
    {
     "cell_type": "heading",
     "level": 4,
     "metadata": {},
     "source": [
      "4) Taking the difference of successive elements in a wave array has the same effect as convolution with the window [1, -1].  The filter for this\n",
      "window is an increasing function of f, so you can think of diff as a high-pass filter.\n",
      "\n",
      "One way to explain this behavior is that diff is a rough approximation of a derivative, and differentiation corresponds to a filter where amplitude is proportional to f.\n",
      "\n",
      "If we use a better approximation of a derivative, we might expect the corresponding filter to be a better approximation of a line.  The window [-1/2, 2, -3/2] is a second order forward difference approximation of the first derivative.  Compute its DFT and see what the filter looks like.\n",
      "\n",
      "Also try [1, -2, 1], which is approximates the second derivative.  What does the filter for the second derivative look like?  And how does that compare to the filter for this window?"
     ]
    },
    {
     "cell_type": "code",
     "collapsed": false,
     "input": [
      "window = numpy.array([1.0, -1.0])\n",
      "window2 = numpy.array([-1.0/2.0, 4.0, -3.0/2.0])"
     ],
     "language": "python",
     "metadata": {},
     "outputs": []
    }
   ],
   "metadata": {}
  }
 ]
}